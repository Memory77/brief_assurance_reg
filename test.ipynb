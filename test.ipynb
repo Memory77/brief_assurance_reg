{
 "cells": [
  {
   "cell_type": "code",
   "execution_count": null,
   "metadata": {},
   "outputs": [],
   "source": [
    "sex_counts = df['sex'].value_counts()\n",
    "plt.figure(figsize=(6, 6))\n",
    "sex_counts.plot(kind='pie', autopct='%1.1f%%', colors=['skyblue', 'lightcoral'], startangle=90)\n",
    "plt.title('sex(clients_total: 1338)')"
   ]
  },
  {
   "cell_type": "code",
   "execution_count": null,
   "metadata": {},
   "outputs": [],
   "source": [
    "smoker_counts = df['smoker'].value_counts()\n",
    "print(smoker_counts)\n",
    "print(df.shape[0])\n",
    "plt.figure(figsize=(6, 6))\n",
    "smoker_counts.plot(kind='pie', autopct='%1.1f%%', colors=['skyblue', 'lightcoral'], startangle=90)\n",
    "plt.title('smoker (clients_total: 1338)')"
   ]
  },
  {
   "cell_type": "code",
   "execution_count": 6,
   "metadata": {},
   "outputs": [
    {
     "data": {
      "text/plain": [
       "array([nan, 'Red', 'Blue', 'Orange', 'Yellow'], dtype=object)"
      ]
     },
     "execution_count": 6,
     "metadata": {},
     "output_type": "execute_result"
    }
   ],
   "source": [
    "# test pipeline\n",
    "\n",
    "import pandas as pd \n",
    "from sklearn.preprocessing import OneHotEncoder\n",
    "from sklearn.impute import SimpleImputer\n",
    "\n",
    "url = 'https://bit.ly/missing-values'\n",
    "\n",
    "df = pd.read_csv(url)\n",
    "\n",
    "df.head()\n",
    "\n",
    "df['color'].unique()\n"
   ]
  }
 ],
 "metadata": {
  "kernelspec": {
   "display_name": "ml",
   "language": "python",
   "name": "python3"
  },
  "language_info": {
   "codemirror_mode": {
    "name": "ipython",
    "version": 3
   },
   "file_extension": ".py",
   "mimetype": "text/x-python",
   "name": "python",
   "nbconvert_exporter": "python",
   "pygments_lexer": "ipython3",
   "version": "3.10.12"
  }
 },
 "nbformat": 4,
 "nbformat_minor": 2
}
