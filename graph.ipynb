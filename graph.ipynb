{
 "cells": [
  {
   "cell_type": "code",
   "execution_count": null,
   "metadata": {},
   "outputs": [],
   "source": [
    "# graph age moyen + std\n",
    "\n",
    "plt.hist(df['age'], bins=10, color='skyblue', edgecolor='black')\n",
    "plt.title('Distribution de l\\'âge des clients')\n",
    "plt.xlabel('Âge')\n",
    "plt.ylabel(\"Nombre d'assurés\")\n",
    "plt.axvline(df['age'].mean(), color='red', linestyle='dashed', linewidth=2, label='Âge moyen')  # Ligne verticale pour l'âge moyen\n",
    "# Lignes verticales pour la moyenne ± la déviation standard\n",
    "plt.axvline(df['age'].mean() + df['age'].std(), color='orange', linestyle='dashed', linewidth=2, label='Âge moyen + std')\n",
    "plt.axvline(df['age'].mean() - df['age'].std(), color='orange', linestyle='dashed', linewidth=2, label='Âge moyen - std')\n",
    "plt.legend()\n",
    "\n",
    "# Ajuster l'échelle de l'axe Y pour avoir des valeurs entières\n",
    "plt.yticks(range(0, 500, 50))  # Ajuster la plage en fonction de votre distribution\n",
    "\n",
    "# Ajouter des étiquettes pour l'axe X\n",
    "plt.xticks(range(18, 67, 3))  # Ajuster la plage en fonction de votre distribution\n",
    "\n",
    "plt.show()\n",
    "\n",
    "\n",
    "\n",
    "# graph montant charges + std\n",
    "\n",
    "plt.hist(df['charges'], bins=10, color='skyblue', edgecolor='black')\n",
    "plt.title('Distribution des montants des cotisations')\n",
    "plt.xlabel('Montant des cotisations')\n",
    "plt.ylabel(\"Nombre d'assurés\")\n",
    "plt.axvline(df['charges'].mean(), color='red', linestyle='dashed', linewidth=2, label='Cotisation moyenne')  # Ligne verticale pour l'âge moyen\n",
    "# Lignes verticales pour la moyenne ± la déviation standard\n",
    "plt.axvline(df['charges'].mean() + df['charges'].std(), color='orange', linestyle='dashed', linewidth=2, label='Cotisation moyenne + std')\n",
    "plt.axvline(df['charges'].mean() - df['charges'].std(), color='orange', linestyle='dashed', linewidth=2, label='Cotisation moyenne - std')\n",
    "plt.legend()\n",
    "\n",
    "# Ajuster l'échelle de l'axe Y pour avoir des valeurs entières\n",
    "plt.yticks(range(0, 600, 50))  # Ajuster la plage en fonction de votre distribution\n",
    "\n",
    "# Ajouter des étiquettes pour l'axe X\n",
    "plt.xticks(range(1000, 64000, 10000))  # Ajuster la plage en fonction de votre distribution\n",
    "\n",
    "plt.show()"
   ]
  }
 ],
 "metadata": {
  "language_info": {
   "name": "python"
  }
 },
 "nbformat": 4,
 "nbformat_minor": 2
}
